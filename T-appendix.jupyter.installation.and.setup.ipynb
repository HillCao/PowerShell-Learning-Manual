{
 "cells": [
  {
   "cell_type": "markdown",
   "metadata": {},
   "source": [
    "# Jupyterlab的安装与配置"
   ]
  },
  {
   "cell_type": "markdown",
   "metadata": {},
   "source": [
    "Anaconda是目前最方便的Python发行版，搭载了很多我们需要用到的软件包。\n",
    "\n",
    "我们将在Anaconda上使用Jupyterlab。"
   ]
  },
  {
   "cell_type": "markdown",
   "metadata": {},
   "source": [
    "## 下载并安装Anaconda"
   ]
  },
  {
   "cell_type": "markdown",
   "metadata": {},
   "source": [
    "Anaconda有图形化的安装教程，官方的很详细：  \n",
    "> [https://docs.anaconda.com/anaconda/install/](https://docs.anaconda.com/anaconda/install/)"
   ]
  },
  {
   "cell_type": "markdown",
   "metadata": {},
   "source": [
    "安装完毕之后，打开Anaconda Prompt，继续安装几个组件：\n",
    "\n",
    "```\n",
    "conda update conda\n",
    "conda update anaconda\n",
    "conda install -c conda-forge nodejs\n",
    "conda install -c conda-forge jupyterlab\n",
    "```"
   ]
  },
  {
   "cell_type": "markdown",
   "metadata": {},
   "source": [
    "## 第一次启动Jupyter lab"
   ]
  },
  {
   "cell_type": "markdown",
   "metadata": {},
   "source": [
    "打开Anaconda Prompt，`cd`到你想浏览、编辑文件的目录，然后输入`jupyter lab`，随后，会用默认浏览器打开一个窗口，地址为：[http://localhost:8888/lab?](http://localhost:8888/lab?)， 这就是Jupyter lab的操作界面了。"
   ]
  },
  {
   "cell_type": "markdown",
   "metadata": {},
   "source": [
    "**比如：**"
   ]
  },
  {
   "cell_type": "markdown",
   "metadata": {},
   "source": [
    "我进入到我从Github上fetch到本地的仓库\n",
    "我在Anaconda Prompt里面输入：\n",
    "```\n",
    "cd C:\\Users\\Frank\\Documents\\GitHub\\PowerShell-Learning-Manual\n",
    "jupyter lab\n",
    "```"
   ]
  },
  {
   "cell_type": "markdown",
   "metadata": {},
   "source": [
    "浏览器就会弹出如下的界面，可以看到，本地仓库里的文件，就可以查看和编辑了。"
   ]
  },
  {
   "cell_type": "markdown",
   "metadata": {},
   "source": [
    "![image](A7418EB6BBA843B1ACCA02778949ED53)"
   ]
  },
  {
   "cell_type": "code",
   "execution_count": null,
   "metadata": {},
   "outputs": [],
   "source": []
  }
 ],
 "metadata": {
  "kernelspec": {
   "display_name": "Python 3",
   "language": "python",
   "name": "python3"
  },
  "language_info": {
   "codemirror_mode": {
    "name": "ipython",
    "version": 3
   },
   "file_extension": ".py",
   "mimetype": "text/x-python",
   "name": "python",
   "nbconvert_exporter": "python",
   "pygments_lexer": "ipython3",
   "version": "3.7.3"
  },
  "toc-autonumbering": true
 },
 "nbformat": 4,
 "nbformat_minor": 2
}
