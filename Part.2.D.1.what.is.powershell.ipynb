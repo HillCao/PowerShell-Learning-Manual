{
 "cells": [
  {
   "cell_type": "markdown",
   "metadata": {},
   "source": [
    "# 认识PowerShell"
   ]
  },
  {
   "cell_type": "markdown",
   "metadata": {},
   "source": [
    "## Windows Powershell是什么？"
   ]
  },
  {
   "cell_type": "markdown",
   "metadata": {},
   "source": [
    "命令行管理工具  \n",
    "脚本语言"
   ]
  },
  {
   "cell_type": "markdown",
   "metadata": {},
   "source": [
    "## 基于.NET Framework"
   ]
  },
  {
   "cell_type": "markdown",
   "metadata": {},
   "source": [
    "PowerShell基于.NET Framework CLR和.NET Framework，能够接收和返回.NET Framework对象，不是基于文本的脚本语言，是基于对象的脚本语言。  \n",
    "\n",
    "我们随着后面的学习，慢慢的感受什么是基于对象。"
   ]
  },
  {
   "cell_type": "markdown",
   "metadata": {},
   "source": [
    "## CLI之于GUI的意义"
   ]
  },
  {
   "cell_type": "markdown",
   "metadata": {},
   "source": [
    "PowerShell是命令行（Command-line Interface）的工具，与图形化（Graphical User Interface）的工具相比，有两个明显的特征。  \n",
    "\n",
    "首先是提升效率，GUI更友好，但是没有办法批量的去执行，也是不容易复制的，所以需要维护一个比较大的环境，有一定的重复性，包括能够让别人很好的执行，就都可以使用CLI的方式。  \n",
    "\n",
    "另外一个就是资源的占用，相比与GUI，CLI对系统资源的占用是小得多的，可以快速的加载，如果是对于一个特别大的环境，比如公有云，成百上千，甚至成千上万的服务器，使用非GUI的系统，节省下来的资源就非常可观了。  "
   ]
  },
  {
   "cell_type": "markdown",
   "metadata": {},
   "source": [
    "## 拥抱开源"
   ]
  },
  {
   "cell_type": "markdown",
   "metadata": {},
   "source": [
    "PowerShell在开源社区Github上开源，基于Windows PowerShell的一个分支PowerShell Core，不仅可以支持Windows平台，还开始支持在Linux和MacOS上使用。\n",
    "\n",
    "这意味着有更多的平台的使用者可以通过PowerShell来管理他们的环境。\n",
    "\n",
    "[https://github.com/powershell/powershell](https://github.com/powershell/powershell)"
   ]
  }
 ],
 "metadata": {
  "kernelspec": {
   "display_name": "Python 3",
   "language": "python",
   "name": "python3"
  },
  "language_info": {
   "codemirror_mode": {
    "name": "ipython",
    "version": 3
   },
   "file_extension": ".py",
   "mimetype": "text/x-python",
   "name": "python",
   "nbconvert_exporter": "python",
   "pygments_lexer": "ipython3",
   "version": "3.7.3"
  }
 },
 "nbformat": 4,
 "nbformat_minor": 2
}
