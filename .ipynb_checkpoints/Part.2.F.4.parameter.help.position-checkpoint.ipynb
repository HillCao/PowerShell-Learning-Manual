{
 "cells": [
  {
   "cell_type": "markdown",
   "metadata": {},
   "source": [
    "# 1.参数的帮助信息"
   ]
  },
  {
   "cell_type": "markdown",
   "metadata": {},
   "source": [
    "## 1.2.是否位置参数？"
   ]
  },
  {
   "cell_type": "markdown",
   "metadata": {},
   "source": [
    "这个位置参数是什么意思？"
   ]
  },
  {
   "cell_type": "markdown",
   "metadata": {},
   "source": [
    "**【例子】**\n",
    "\n",
    "我们来接触一个新命令，Get-Eventlog\n",
    "\n",
    "事件查看器，是我们经常会用到的一个管理工具。\n",
    "\n",
    "在运行中输入“eventvwr.msc”可以快速打开它。\n",
    "\n",
    "![](images/winr_eventvwr.jpg)\n",
    "\n",
    "![](images/eventvwr.jpg)\n",
    "\n",
    "在PowerShell中，通过Get-Eventlog，我们也能够获取到我们想要的系统日志，比如我们想查看谁登陆过我这台机器。\n",
    "\n",
    "我可以使用下面的命令：\n",
    "\n"
   ]
  },
  {
   "cell_type": "code",
   "execution_count": null,
   "metadata": {},
   "outputs": [],
   "source": []
  }
 ],
 "metadata": {
  "kernelspec": {
   "display_name": "Python 3",
   "language": "python",
   "name": "python3"
  },
  "language_info": {
   "codemirror_mode": {
    "name": "ipython",
    "version": 3
   },
   "file_extension": ".py",
   "mimetype": "text/x-python",
   "name": "python",
   "nbconvert_exporter": "python",
   "pygments_lexer": "ipython3",
   "version": "3.7.3"
  },
  "toc-autonumbering": false
 },
 "nbformat": 4,
 "nbformat_minor": 2
}
