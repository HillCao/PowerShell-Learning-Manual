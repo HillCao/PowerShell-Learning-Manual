{
 "cells": [
  {
   "cell_type": "markdown",
   "metadata": {},
   "source": [
    "# 帮助系统"
   ]
  },
  {
   "cell_type": "markdown",
   "metadata": {},
   "source": [
    "PowerShell有完善的帮助系统，学习使用帮助，是非常重要、有效的学习PowerShell的途径。"
   ]
  },
  {
   "cell_type": "markdown",
   "metadata": {},
   "source": [
    "## 更新帮助系统"
   ]
  },
  {
   "cell_type": "markdown",
   "metadata": {},
   "source": [
    "确保你的机器能够访问因特网，执行下面的命令，可以将最新的PowerShell帮助信息更新到你的本地。\n",
    "```bash\n",
    "Update-Help\n",
    "```"
   ]
  },
  {
   "cell_type": "markdown",
   "metadata": {},
   "source": [
    "## 获得cmdlets的帮助信息"
   ]
  },
  {
   "cell_type": "markdown",
   "metadata": {},
   "source": [
    "通过Get-Help命令，可以获得cmdlets的帮助信息"
   ]
  },
  {
   "cell_type": "markdown",
   "metadata": {},
   "source": [
    "**【例子】**  \n",
    "```bash\n",
    "Get-Help Get-Process\n",
    "```\n",
    "![](images/get_help_get_process.png)\n",
    "你甚至可以看看Get-Help的帮助信息\n",
    "```bash\n",
    "Get-Help Get-Help\n",
    "```\n",
    "如果不使用任何参数，你看到的是一个概略的信息，如果你想查看完整的帮助信息，可以使用参数`-Full`\n",
    "```bash\n",
    "Get-Help Get-Help -Full\n",
    "```\n",
    "如果想查看关于参数的帮助信息，可以使用参数`-Parameter`\n",
    "```bash\n",
    "Get-Help Get-Help -Parameter *\n",
    "```\n",
    "如果想查看示例，可以使用参数`-Examples`\n",
    "```bash\n",
    "Get-Help Get-Help -Examples\n",
    "```"
   ]
  },
  {
   "cell_type": "markdown",
   "metadata": {},
   "source": [
    "**【练习】**  \n",
    "1.查看Get-ChildItem的帮助信息"
   ]
  },
  {
   "cell_type": "markdown",
   "metadata": {},
   "source": [
    "## 获得PowerShell内置概念的帮助信息"
   ]
  },
  {
   "cell_type": "markdown",
   "metadata": {},
   "source": [
    "PowerShell有一类特殊的信息，不是cmdlets命令，是一些以“about_”开头的内容，这些是PowerShell的概念信息，通过Get-Help也可以查看这些概念信息。"
   ]
  },
  {
   "cell_type": "markdown",
   "metadata": {},
   "source": [
    "**【例子】**  \n",
    "比如：\n",
    "```bash\n",
    "Get-Help about_command_syntax\n",
    "```\n",
    "查看PowerShell中的关于命令的语法的描述信息。\n",
    "\n",
    "还可以通过通配符，查看所有的PowerShell中的概念。\n",
    "```bash\n",
    "Get-Help about_*\n",
    "```\n",
    "![](images/get_help_about_star.png)\n"
   ]
  },
  {
   "cell_type": "markdown",
   "metadata": {},
   "source": [
    "**【练习】**  \n",
    "查看一下PowerShell概念：about_CommonParameters的帮助文件的内容。"
   ]
  },
  {
   "cell_type": "markdown",
   "metadata": {},
   "source": [
    "## 获取providers的帮助信息"
   ]
  },
  {
   "cell_type": "markdown",
   "metadata": {},
   "source": [
    "通过Get-Help也可以查看provider的帮助信息。"
   ]
  },
  {
   "cell_type": "markdown",
   "metadata": {},
   "source": [
    "**【例子】**  \n",
    "比如：我想看一下注册表provider的帮助信息。"
   ]
  },
  {
   "cell_type": "code",
   "execution_count": null,
   "metadata": {},
   "outputs": [],
   "source": []
  }
 ],
 "metadata": {
  "kernelspec": {
   "display_name": "Python 3",
   "language": "python",
   "name": "python3"
  },
  "language_info": {
   "codemirror_mode": {
    "name": "ipython",
    "version": 3
   },
   "file_extension": ".py",
   "mimetype": "text/x-python",
   "name": "python",
   "nbconvert_exporter": "python",
   "pygments_lexer": "ipython3",
   "version": "3.7.3"
  },
  "toc-autonumbering": true
 },
 "nbformat": 4,
 "nbformat_minor": 2
}
