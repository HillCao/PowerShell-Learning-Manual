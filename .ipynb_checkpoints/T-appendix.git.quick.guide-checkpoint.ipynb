{
 "cells": [
  {
   "cell_type": "markdown",
   "metadata": {},
   "source": [
    "# Github快速指南"
   ]
  },
  {
   "cell_type": "markdown",
   "metadata": {},
   "source": [
    "## Git简介"
   ]
  },
  {
   "cell_type": "markdown",
   "metadata": {},
   "source": [
    "Git是一个分布式版本控制软件，关键字：分布式，版本控制。\n",
    "\n",
    "分布式，意味着Git本身并不是集中存放内容的，内容被分布的存放在了各个地方。\n",
    "版本控制，可以追踪文件变化，可回滚。\n",
    "\n",
    "加在一起，就可以：\n",
    "> * 备份文件\n",
    "> * 跟踪文件变化\n",
    "> * 协作共同操作文件"
   ]
  },
  {
   "cell_type": "markdown",
   "metadata": {},
   "source": [
    "## Git仓库结构"
   ]
  },
  {
   "cell_type": "markdown",
   "metadata": {},
   "source": [
    "对于一个Git仓库，有四个抽象的层：\n",
    "> * upstream repository云端仓库\n",
    "> * local repository本地仓库\n",
    "> * staging area缓存区域\n",
    "> * working directory工作区"
   ]
  },
  {
   "cell_type": "code",
   "execution_count": null,
   "metadata": {},
   "outputs": [],
   "source": []
  }
 ],
 "metadata": {
  "kernelspec": {
   "display_name": "Python 3",
   "language": "python",
   "name": "python3"
  },
  "language_info": {
   "codemirror_mode": {
    "name": "ipython",
    "version": 3
   },
   "file_extension": ".py",
   "mimetype": "text/x-python",
   "name": "python",
   "nbconvert_exporter": "python",
   "pygments_lexer": "ipython3",
   "version": "3.7.3"
  }
 },
 "nbformat": 4,
 "nbformat_minor": 2
}
