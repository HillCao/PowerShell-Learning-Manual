{
 "cells": [
  {
   "cell_type": "markdown",
   "metadata": {},
   "source": [
    "# 理解重要的PowerShell概念"
   ]
  },
  {
   "cell_type": "markdown",
   "metadata": {},
   "source": [
    "## 基于对象"
   ]
  },
  {
   "cell_type": "markdown",
   "metadata": {},
   "source": [
    "PowerShell是基于对象的，对象是一种结构化的信息，而不仅仅是看上去的一堆字符串显示在屏幕上。"
   ]
  },
  {
   "cell_type": "markdown",
   "metadata": {},
   "source": [
    "**【例子】**  \n",
    "比如：  \n",
    "```powershell\n",
    "Get-Process notepad | fl *\n",
    "```\n",
    "在PowerShell，你看到的信息不是平的，一个块整体的文字，每一项你看到的内容，都是一个notepad这个进程对象中的一个个属性，比如name，你可以单独把这个属性选择出来\n",
    "```powershell\n",
    "Get-Process notepad | Select-Object name\n",
    "```"
   ]
  },
  {
   "cell_type": "markdown",
   "metadata": {},
   "source": [
    "**【练习】**  \n",
    "打开一个记事本程序，执行命令：\n",
    "```powershell\n",
    "Get-Process notepad | Get-Member\n",
    "```\n",
    "看看都有哪些属性，试着模仿一下用过的命令把ID信息选择出来。"
   ]
  },
  {
   "cell_type": "markdown",
   "metadata": {},
   "source": [
    "## 命令是可以扩展的"
   ]
  },
  {
   "cell_type": "markdown",
   "metadata": {},
   "source": [
    "不同于传统的cmd.exe这样的命令行工具，你不能直接的扩展自己想用的命令，对于PowerShell，内置的命令我们称为cmdlet，除了cmdlet，你可以通过编译的代码或者脚本，创建你自己的模块和功能，来扩展PowerShell命令行的功能。"
   ]
  },
  {
   "cell_type": "code",
   "execution_count": null,
   "metadata": {},
   "outputs": [],
   "source": []
  }
 ],
 "metadata": {
  "kernelspec": {
   "display_name": "Python 3",
   "language": "python",
   "name": "python3"
  },
  "language_info": {
   "codemirror_mode": {
    "name": "ipython",
    "version": 3
   },
   "file_extension": ".py",
   "mimetype": "text/x-python",
   "name": "python",
   "nbconvert_exporter": "python",
   "pygments_lexer": "ipython3",
   "version": "3.7.3"
  },
  "toc-autonumbering": true
 },
 "nbformat": 4,
 "nbformat_minor": 2
}
