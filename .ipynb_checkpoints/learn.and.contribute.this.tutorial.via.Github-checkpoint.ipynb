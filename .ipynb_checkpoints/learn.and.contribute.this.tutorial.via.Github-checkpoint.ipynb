{
 "cells": [
  {
   "cell_type": "markdown",
   "metadata": {
    "toc-hr-collapsed": false
   },
   "source": [
    "# 如何通过Github学习及参与本教程？"
   ]
  },
  {
   "cell_type": "markdown",
   "metadata": {},
   "source": [
    "Git是一个分布式版本控制软件，可以通过Git来共同协作，控制版本。\n",
    "Github是一个基于Git的项目托管平台，很多开源及私有软件项目托管在上面。\n",
    "\n",
    "Juypterlab是一个交互式笔记本，支持运行40多种编程语言，便于创建和共享程序文档，支持实时代码，数学方程，可视化和markdown等。\n",
    "\n",
    "我们通过Github这个平台进行内容的协作和版本控制，通过Juypterlab进行内容的查看和编辑。"
   ]
  },
  {
   "cell_type": "markdown",
   "metadata": {},
   "source": [
    "## 如何使用Jupyterlab查看和编辑本教程内容？"
   ]
  },
  {
   "cell_type": "markdown",
   "metadata": {},
   "source": [
    "1.注册[github.com](https://github.com)帐号；  \n",
    "2.使用浏览器访问[https://github.com/vFrankPZhang/PowerShell-Learning-Manual](https://github.com/vFrankPZhang/PowerShell-Learning-Manual)；  \n",
    "3.将该仓库Fork到你自己的账户中；  \n",
    "4.使用[Desktop for Github](https://desktop.github.com)将[PowerShell Learning Manual]这个你Fork到你自己帐户的仓库克隆到本地；  \n",
    "5.创建自己的Branch；  \n",
    "6.按照[Jupyterlab的安装与配置](T-appendix.jupyter.installation.and.setup.ipynb)在本地搭建好Jupyterlab；  \n",
    "7.通过Jupyterlab浏览本书和直接编辑本书；  \n",
    "8.在Jupyterlab中，通过点击保存按钮，保存变更且创建检查点，Github Desktop中将会出现Changes记录；  \n",
    "9.在Github Desktop中填写Summary和Description信息，commit到自己的Branch中。"
   ]
  },
  {
   "cell_type": "markdown",
   "metadata": {
    "toc-hr-collapsed": false
   },
   "source": [
    "## 如何通过Github将变更提交给我？"
   ]
  },
  {
   "cell_type": "markdown",
   "metadata": {},
   "source": [
    "1.使用浏览器访问[https://github.com/vFrankPZhang/PowerShell-Learning-Manual](https://github.com/vFrankPZhang/PowerShell-Learning-Manual);  \n",
    "2.将该仓库Fork到你自己的账户中；  \n",
    "3.创建一个新的分支，如：`from-<your_name>`；  \n",
    "4.在新分支下进行修改某个文件，然后提交变更，请在Comment中写清楚修改说明；  \n",
    "5.在页面顶部选择`Pull requests`标签，点击刚刚修改文件的链接，然后点击`Compare & pull request`按钮；  \n",
    "6.确认无误之后，点击`Create pull request`按钮;  \n",
    "7.我，PowerShell Learning Manual这个仓库的所有者，会被通知有人提交了Pull request；  \n",
    "8.我确认这个Pull request后，按`Merge pull request`按钮，你提交的修正就会被合并到我的内容里。"
   ]
  },
  {
   "cell_type": "markdown",
   "metadata": {},
   "source": [
    "**提交Pull request的最佳实践：**"
   ]
  },
  {
   "cell_type": "markdown",
   "metadata": {},
   "source": [
    "> * 提交Pull request之前，必须先将你的Fork与原仓库同步到最新；  \n",
    "> * 尽量每次只提交一个小修改；  \n",
    "> * 提交时尽量简短、清楚说明修改原因；  \n",
    "> * 耐心等待回复。"
   ]
  }
 ],
 "metadata": {
  "kernelspec": {
   "display_name": "Python 3",
   "language": "python",
   "name": "python3"
  },
  "language_info": {
   "codemirror_mode": {
    "name": "ipython",
    "version": 3
   },
   "file_extension": ".py",
   "mimetype": "text/x-python",
   "name": "python",
   "nbconvert_exporter": "python",
   "pygments_lexer": "ipython3",
   "version": "3.7.3"
  },
  "toc-autonumbering": true,
  "toc-showcode": true,
  "toc-showmarkdowntxt": false
 },
 "nbformat": 4,
 "nbformat_minor": 2
}
