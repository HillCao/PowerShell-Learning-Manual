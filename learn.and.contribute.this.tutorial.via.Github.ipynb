{
 "cells": [
  {
   "cell_type": "markdown",
   "metadata": {},
   "source": [
    "# 如何通过Github学习及参与本教程？"
   ]
  },
  {
   "cell_type": "markdown",
   "metadata": {},
   "source": [
    "## 具体步骤"
   ]
  },
  {
   "cell_type": "markdown",
   "metadata": {},
   "source": [
    "请按照以下步骤操作：\n",
    "\n",
    "> 1.注册[github.com](https://github.com)帐号；  \n",
    "> 2.使用浏览器访问[https://github.com/vFrankPZhang/PowerShell-Learning-Manual](https://github.com/vFrankPZhang/PowerShell-Learning-Manual)；  \n",
    "> 3.将该仓库Fork到你自己的账户中；  \n",
    "> 4.使用[Desktop for Github](https://desktop.github.com)将[PowerShell Learning Manual]这个你Fork到你自己帐户的仓库克隆到本地；\n"
   ]
  }
 ],
 "metadata": {
  "kernelspec": {
   "display_name": "Python 3",
   "language": "python",
   "name": "python3"
  },
  "language_info": {
   "codemirror_mode": {
    "name": "ipython",
    "version": 3
   },
   "file_extension": ".py",
   "mimetype": "text/x-python",
   "name": "python",
   "nbconvert_exporter": "python",
   "pygments_lexer": "ipython3",
   "version": "3.7.3"
  }
 },
 "nbformat": 4,
 "nbformat_minor": 2
}
